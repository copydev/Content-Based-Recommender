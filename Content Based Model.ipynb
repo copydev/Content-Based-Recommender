{
 "cells": [
  {
   "cell_type": "code",
   "execution_count": 6,
   "metadata": {},
   "outputs": [],
   "source": [
    "import numpy as np\n",
    "import pandas as pd\n",
    "import math\n",
    "# pd.options.display.max_rows = 300"
   ]
  },
  {
   "cell_type": "code",
   "execution_count": 7,
   "metadata": {},
   "outputs": [],
   "source": [
    "#Show class to store all the shows with attributes\n",
    "class Show:\n",
    "    def __init__(self,channel,time,showName,genre):\n",
    "        #channel name\n",
    "        self.channel = channel\n",
    "        #time in mins\n",
    "#         print(showName)\n",
    "        h,m,s = time.split(':')\n",
    "        self.time = int(h)*60 + int(m)\n",
    "        #showName\n",
    "        self.showName = showName\n",
    "        genre_list = genre.split(',')\n",
    "        for i,g in enumerate(genre_list):\n",
    "            genre_list[i] = g.lower()\n",
    "            if(len(g) == 0):\n",
    "                genre_list.remove('')\n",
    "                break;\n",
    "        self.genre = genre_list"
   ]
  },
  {
   "cell_type": "code",
   "execution_count": 3,
   "metadata": {},
   "outputs": [
    {
     "name": "stdout",
     "output_type": "stream",
     "text": [
      "Songs hi song\n"
     ]
    },
    {
     "data": {
      "text/plain": [
       "['hindi', 'music', 'song', 'bollywood']"
      ]
     },
     "execution_count": 3,
     "metadata": {},
     "output_type": "execute_result"
    }
   ],
   "source": [
    "s1 = Show('zoom','12:00:00','Songs hi song','hindi,music,song,Bollywood,')\n",
    "s1.genre"
   ]
  },
  {
   "cell_type": "code",
   "execution_count": 4,
   "metadata": {},
   "outputs": [
    {
     "data": {
      "text/plain": [
       "['hindi', 'music', 'song', 'bollywood']"
      ]
     },
     "execution_count": 4,
     "metadata": {},
     "output_type": "execute_result"
    }
   ],
   "source": [
    "s1.genre"
   ]
  },
  {
   "cell_type": "code",
   "execution_count": 5,
   "metadata": {},
   "outputs": [
    {
     "name": "stdout",
     "output_type": "stream",
     "text": [
      "          Channel     Time                                       show  \\\n",
      "0    Star Plus HD  00:00:00                      Devon Ke Dev Mahadev   \n",
      "1    Star Plus HD  00:45:00        Savdhaan India : India Fights Back   \n",
      "2    Star Plus HD  01:30:00        Savdhaan India : India Fights Back   \n",
      "3    Star Plus HD  02:15:00        Savdhaan India : India Fights Back   \n",
      "4    Star Plus HD  03:00:00        Savdhaan India : India Fights Back   \n",
      "5    Star Plus HD  08:00:00                                Mahabharat   \n",
      "6    Star Plus HD  09:00:00        Savdhaan India : India Fights Back   \n",
      "7    Star Plus HD  10:00:00                             Tu Mera Hero    \n",
      "8    Star Plus HD  11:00:00  Pyar Ka Dard Hai Meetha Meetha Pyara Pya   \n",
      "9    Star Plus HD  12:00:00                               RadhaKrishn   \n",
      "10           zoom  12:00:00                             Mirchi top 20   \n",
      "11           zoom  13:00:00                          Planet Bollywood   \n",
      "12           zoom  14:00:00                              Telly Top Up   \n",
      "13           zoom  15:00:00                          Request Kiya Hai   \n",
      "14           zoom  16:00:00                             Music Takatak   \n",
      "15           zoom  17:00:00                               Loudspeaker   \n",
      "16           zoom  18:00:00                              Shandaarhits   \n",
      "17           zoom  19:00:00                               loudspeaker   \n",
      "18           zoom  20:00:00                              Mann Ki Dhun   \n",
      "19       ZEE NEWS  08:00:00                            weather update   \n",
      "20       ZEE NEWS  08:30:00                                    Top100   \n",
      "21       ZEE NEWS  09:00:00                              general news   \n",
      "22       ZEE NEWS  09:30:00                             breaking news   \n",
      "23       ZEE NEWS  10:00:00                        entertainment news   \n",
      "24       ZEE NEWS  10:30:00                            general debate   \n",
      "25       ZEE NEWS  11:00:00                           special program   \n",
      "26       ZEE NEWS  11:30:00                                    top 50   \n",
      "27       ZEE NEWS  12:00:00                               Sports news   \n",
      "28       ZEE NEWS  12:30:00                            market updates   \n",
      "29     UTV Action  08:30:00                    The Hitman's Bodyguard   \n",
      "..            ...       ...                                       ...   \n",
      "269    History TV  10:00:00                                Pawn Stars   \n",
      "270    History TV  11:00:00                            Ancient Aliens   \n",
      "271    History TV  12:00:00                       Curse of Oak Island   \n",
      "272    History TV  13:00:00                             Modern Marvel   \n",
      "273    History TV  14:00:00                              Crazy Wheels   \n",
      "274    History TV  15:00:00                              Storage wars   \n",
      "275    History TV  16:00:00                       OMG! Yeh mera india   \n",
      "276    History TV  17:00:00                                Pawn Stars   \n",
      "277    History TV  18:00:00                              Storage wars   \n",
      "278    History TV  19:00:00                                 Food Tech   \n",
      "279   Star Sports  10:00:00                      Bundesliga Highlight   \n",
      "280   Star Sports  11:00:00                             IPL Highlight   \n",
      "281   Star Sports  12:00:00                           Vivo IPL heroes   \n",
      "282   Star Sports  13:00:00           ICC Cricket World Cup Higlights   \n",
      "283   Star Sports  14:00:00                      Journey of Champions   \n",
      "284   Star Sports  15:00:00                             IPL Highlight   \n",
      "285   Star Sports  16:00:00                      Bundesliga Highlight   \n",
      "286   Star Sports  17:00:00                      Bundesliga Highlight   \n",
      "287   Star Sports  18:00:00                               Sports News   \n",
      "288   Star Sports  19:00:00                               Sports News   \n",
      "289        Zee Tv  10:00:00                              Teleshopping   \n",
      "290        Zee Tv  10:30:00                         Dance India Dance   \n",
      "291        Zee Tv  11:00:00                              Shri Krishna   \n",
      "292        Zee Tv  11:30:00                               Baba Ramdev   \n",
      "293        Zee Tv  12:00:00                           Maine Pyar Kiya   \n",
      "294        Zee Tv  12:30:00                            Pavitra Rishta   \n",
      "295        Zee Tv  13:00:00                           Chennai Express   \n",
      "296        Zee Tv  13:30:00                               Vishnupuran   \n",
      "297        Zee Tv  14:00:00                                Fear Files   \n",
      "298        Zee Tv  14:30:00                         Dance India Dance   \n",
      "\n",
      "                                                 genre  \n",
      "0                Indian,Hindi,television series,darama  \n",
      "1                                   indian,hindi,crime  \n",
      "2                                   indian,hindi,crime  \n",
      "3                                   indian,hindi,crime  \n",
      "4                                   indian,hindi,crime  \n",
      "5                Indian,Hindi,television series,darama  \n",
      "6                                   indian,hindi,crime  \n",
      "7                        indian,hindi,soap,opera,drama  \n",
      "8                        indian,hindi,soap,opera,drama  \n",
      "9                Indian,Hindi,television series,darama  \n",
      "10                           Music,Songs,entertainment  \n",
      "11                           Music,Songs,entertainment  \n",
      "12                           Music,Songs,entertainment  \n",
      "13                           Music,Songs,entertainment  \n",
      "14                           Music,Songs,entertainment  \n",
      "15                           Music,Songs,entertainment  \n",
      "16                           Music,Songs,entertainment  \n",
      "17                           Music,Songs,entertainment  \n",
      "18                           Music,Songs,entertainment  \n",
      "19                            hindi,news,weather,daily  \n",
      "20          hindi,news,morning update ,current updates  \n",
      "21                          hindi , news, general news  \n",
      "22                hindi ,news,curious,important update  \n",
      "23                            hindi,news,entertainment  \n",
      "24                            hindi,debate,news,debate  \n",
      "25                                  hindi,news,special  \n",
      "26          hindi,news,morning update ,current updates  \n",
      "27             hindi,news,stock,economy,market updates  \n",
      "28                    hindi,news,sports,sports updates  \n",
      "29                 hindi,movie, American,action,comedy  \n",
      "..                                                 ...  \n",
      "269  English, Hindi, HostShow, pawn, buy, sell, ant...  \n",
      "270  English, Hindi, Documentary, Aliens, Science, ...  \n",
      "271  English, Hindi, Documentary, Adventure, Island...  \n",
      "272  English, Hindi, Invention, Discovery, Technolo...  \n",
      "273  English, Hindi, Action, Stunts, Tricks, Car, m...  \n",
      "274  English, Hindi, bidding, storage, antiques, re...  \n",
      "275  English, Hindi, Documentary, Travel, Places, t...  \n",
      "276  English, Hindi, HostShow, pawn, buy, sell, ant...  \n",
      "277  English, Hindi, bidding, storage, antiques, re...  \n",
      "278    English, Hindi, recipes, cooking, manufacturing  \n",
      "279         English, Football, Tournaments, Highlights  \n",
      "280          English, Cricket, Tournaments, Highlights  \n",
      "281  English, Cricket, Highlights, legends, journey...  \n",
      "282          English, Cricket, Tournaments, Highlights  \n",
      "283  English, Cricket, Highlights, legends, journey...  \n",
      "284          English, Cricket, Tournaments, Highlights  \n",
      "285         English, Football, Tournaments, Highlights  \n",
      "286         English, Football, Tournaments, Highlights  \n",
      "287                        English,sports,news, latest  \n",
      "288                        English,sports,news, latest  \n",
      "289                 Hindi, teleshopping, advertisement  \n",
      "290  Hindi, reality, competition, dance, artists, c...  \n",
      "291                      Hindi, devotion, serial, god,  \n",
      "292            Hindi, yoga, interview, fitness, health  \n",
      "293                Hindi, serial, romance, soap, drama  \n",
      "294                Hindi, serial, romance, soap, drama  \n",
      "295      Hindi,movie, action, adventure, comedy, drama  \n",
      "296                Hindi, serial, romance, soap, drama  \n",
      "297    Hindi, documentary, thrill, suspense, adventure  \n",
      "298  Hindi, reality, competition, dance, artists, c...  \n",
      "\n",
      "[299 rows x 4 columns]\n"
     ]
    }
   ],
   "source": [
    "#Loading the database \n",
    "df = pd.read_excel('final_dataset.xlsx')\n",
    "print(df)"
   ]
  },
  {
   "cell_type": "code",
   "execution_count": 9,
   "metadata": {},
   "outputs": [
    {
     "name": "stdout",
     "output_type": "stream",
     "text": [
      "299\n"
     ]
    }
   ],
   "source": [
    "print(len(df))\n",
    "show_df = df.values"
   ]
  },
  {
   "cell_type": "code",
   "execution_count": 10,
   "metadata": {},
   "outputs": [],
   "source": [
    "#Make a list of show Class\n",
    "show_list = []\n",
    "for i in range(len(df)):\n",
    "#     print(i)\n",
    "    show_list.append(Show(str(show_df[i][0]),\n",
    "                          str(show_df[i][1]),\n",
    "                          str(show_df[i][2]),\n",
    "                          str(show_df[i][3])))"
   ]
  },
  {
   "cell_type": "code",
   "execution_count": 102,
   "metadata": {},
   "outputs": [],
   "source": [
    "#similarity on the basis of genre\n",
    "def get_genre_similarity(show,new_show):\n",
    "    same = 0.0\n",
    "    for i in range(len(show.genre)):\n",
    "#         print(\"SHOW:\" +show.genre[i])\n",
    "        for j in range(len(new_show.genre)):\n",
    "#             print(\"NEW SHOW:\"+new_show.genre[j])\n",
    "            if(show.genre[i] == new_show.genre[j]):\n",
    "                \n",
    "                same+=1\n",
    "                break\n",
    "    \n",
    "#     print(same)\n",
    "    \n",
    "    return same /math.sqrt(float(len(show.genre) * len(new_show.genre)))"
   ]
  },
  {
   "cell_type": "code",
   "execution_count": 203,
   "metadata": {},
   "outputs": [],
   "source": [
    "#Similarity on the basis of time\n",
    "def get_time_similarity(show,new_show):\n",
    "#     print(show.time,new_show.time)\n",
    "    diff = abs(show.time-new_show.time)\n",
    "    sim = math.exp(-diff/1440)\n",
    "\n",
    "    return sim"
   ]
  },
  {
   "cell_type": "code",
   "execution_count": 204,
   "metadata": {},
   "outputs": [],
   "source": [
    "#Total similarity\n",
    "def get_similarity(show,new_show):\n",
    "    similarity = 1\n",
    "    similarity *= get_genre_similarity(show,new_show)\n",
    "    similarity *= get_time_similarity(show,new_show)\n",
    "    return similarity"
   ]
  },
  {
   "cell_type": "code",
   "execution_count": 205,
   "metadata": {},
   "outputs": [],
   "source": [
    "# #Comparatpr\n",
    "# def simComp(sim):\n",
    "#     return float(sim[0])"
   ]
  },
  {
   "cell_type": "code",
   "execution_count": 209,
   "metadata": {},
   "outputs": [],
   "source": [
    "#finding recommendation on the basis of single show user watch\n",
    "def find_recommendation(show):\n",
    "    #Making a dictionary with (show_name,similarity) pair\n",
    "    similarity_list = {}\n",
    "    for i in range(len(show_list)):\n",
    "        #Skip show with same name\n",
    "        if(show.showName == show_list[i].showName):\n",
    "            continue\n",
    "        \n",
    "        similarity = get_similarity(show,show_list[i])\n",
    "#         similarity_list.append([similarity,show_list[i].showName])\n",
    "        similarity_list[show_list[i].showName] = similarity\n",
    "    \n",
    "    \n",
    "#     {k: v for k, v in sorted(similarity_list.items(), key=lambda item: item[1])}\n",
    "\n",
    "\n",
    "    # Sorting the dictionary\n",
    "    similarity_list = sorted(similarity_list.items(), key=lambda x: x[1], reverse= True)\n",
    "    \n",
    "#     print(type(similarity_list[0]))\n",
    "#     similarity_list.sort(key = simComp, reverse = True)\n",
    "    #Get Top 10 similar channels\n",
    "    \n",
    "    #Returning top 20 similar shows.\n",
    "    return similarity_list[:20]\n",
    "    "
   ]
  },
  {
   "cell_type": "code",
   "execution_count": 210,
   "metadata": {},
   "outputs": [
    {
     "data": {
      "text/plain": [
       "0.9692332344763441"
      ]
     },
     "execution_count": 210,
     "metadata": {},
     "output_type": "execute_result"
    }
   ],
   "source": [
    "get_time_similarity(show_list[0],show_list[1])"
   ]
  },
  {
   "cell_type": "code",
   "execution_count": 215,
   "metadata": {},
   "outputs": [
    {
     "data": {
      "text/plain": [
       "[('Bazaar Morning Call', 0.9591894571091382),\n",
       " ('Closing Bell', 0.9200444146293233),\n",
       " ('Stock Begin', 0.8824969025845955),\n",
       " ('Prime Time', 0.8464817248906141),\n",
       " ('Stock Exchange', 0.7059975220676764),\n",
       " ('Stock Break', 0.5755136742654828),\n",
       " ('Sports news', 0.311520313228562),\n",
       " ('Paramavatar Shri Krishna', 0.2581988897471611),\n",
       " ('Guddu', 0.24766165288276168),\n",
       " ('Supreme Khiladi 2', 0.240876832403809),\n",
       " ('Corona Special', 0.22360679774997896),\n",
       " ('Kee', 0.22159720997478233),\n",
       " ('Gangaajal', 0.22023659507603546),\n",
       " ('Machine', 0.2199109024675682),\n",
       " ('Nayak', 0.2152273040425923),\n",
       " ('The Adventurers', 0.2144812829397152),\n",
       " ('5 Live', 0.2144812829397152),\n",
       " ('jamai Raja', 0.2140543978822474),\n",
       " ('Jodha Akbar', 0.2096410631214606),\n",
       " ('The Jungle Book', 0.20644376091967753)]"
      ]
     },
     "execution_count": 215,
     "metadata": {},
     "output_type": "execute_result"
    }
   ],
   "source": [
    "find_recommendation(show_list[187]) # Put a random channel to get top 20 similar shows."
   ]
  },
  {
   "cell_type": "code",
   "execution_count": null,
   "metadata": {},
   "outputs": [],
   "source": []
  },
  {
   "cell_type": "code",
   "execution_count": null,
   "metadata": {},
   "outputs": [],
   "source": []
  },
  {
   "cell_type": "code",
   "execution_count": null,
   "metadata": {},
   "outputs": [],
   "source": []
  }
 ],
 "metadata": {
  "kernelspec": {
   "display_name": "Python 3",
   "language": "python",
   "name": "python3"
  },
  "language_info": {
   "codemirror_mode": {
    "name": "ipython",
    "version": 3
   },
   "file_extension": ".py",
   "mimetype": "text/x-python",
   "name": "python",
   "nbconvert_exporter": "python",
   "pygments_lexer": "ipython3",
   "version": "3.7.3"
  }
 },
 "nbformat": 4,
 "nbformat_minor": 4
}
